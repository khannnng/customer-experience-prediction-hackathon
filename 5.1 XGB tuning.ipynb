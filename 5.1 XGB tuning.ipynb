{
 "cells": [
  {
   "cell_type": "markdown",
   "id": "6a057e57-11ac-4583-838d-a73912465b72",
   "metadata": {},
   "source": [
    "5.0 explore base tree\n",
    "\n",
    "**5.1 optimize xgb (it needs scale)** "
   ]
  },
  {
   "cell_type": "markdown",
   "id": "8e89e985-dc22-469b-8e8d-b2079eeef8ca",
   "metadata": {
    "tags": []
   },
   "source": [
    "### 0/ Import"
   ]
  },
  {
   "cell_type": "code",
   "execution_count": 16,
   "id": "e993e108-e56f-4fc5-9e00-862dc06b8a24",
   "metadata": {},
   "outputs": [],
   "source": [
    "# Basic\n",
    "import numpy as np\n",
    "import pandas as pd\n",
    "import matplotlib.pyplot as plt\n",
    "import seaborn as sns\n",
    "\n",
    "# preprocess, split and metric\n",
    "from sklearn.metrics import confusion_matrix,classification_report,roc_auc_score,plot_confusion_matrix,precision_recall_curve,roc_curve,make_scorer, f1_score, precision_score, recall_score, accuracy_score\n",
    "#from imblearn.over_sampling import SMOTE\n",
    "from sklearn.model_selection import train_test_split\n",
    "from sklearn import preprocessing\n",
    "\n",
    "# classifier algo\n",
    "from sklearn.neighbors import KNeighborsClassifier\n",
    "from sklearn.tree import DecisionTreeClassifier\n",
    "from sklearn.ensemble import BaggingClassifier,RandomForestClassifier,GradientBoostingClassifier,VotingClassifier,AdaBoostClassifier\n",
    "from sklearn.naive_bayes import GaussianNB\n",
    "from sklearn.linear_model import LogisticRegression\n",
    "from sklearn.model_selection import GridSearchCV,RandomizedSearchCV\n",
    "from sklearn.svm import SVC\n",
    "\n",
    "#random\n",
    "np.random.seed(42)\n",
    "import random\n",
    "random.seed(42)\n",
    "\n",
    "# Settings\n",
    "import warnings\n",
    "warnings.filterwarnings(\"ignore\")\n",
    "import time\n",
    "pd.set_option('display.max_columns', None)\n",
    "\n",
    "from joblib import dump, load"
   ]
  },
  {
   "cell_type": "code",
   "execution_count": 17,
   "id": "ba9cdc54-ca47-4210-9f3f-d5fb78531e7a",
   "metadata": {},
   "outputs": [],
   "source": [
    "# deep learning algo\n",
    "import tensorflow as tf\n",
    "from tensorflow.keras.models import Sequential\n",
    "from tensorflow.keras.layers import Dense, Dropout, Activation\n",
    "from tensorflow.keras import backend\n",
    "from tensorflow.keras.wrappers.scikit_learn import KerasClassifier\n",
    "\n",
    "# Fixing the seed for random number generators\n",
    "tf.random.set_seed(42)\n",
    "\n",
    "# dask\n",
    "from dask_ml.model_selection import GridSearchCV as DaskGridSearchCV\n",
    "\n",
    "# keras tuner\n",
    "from tensorflow import keras\n",
    "from tensorflow.keras import layers\n",
    "from kerastuner.tuners import RandomSearch"
   ]
  },
  {
   "cell_type": "code",
   "execution_count": 18,
   "id": "a5b32e13-ebcc-45b6-9f48-de3d42a7eefa",
   "metadata": {},
   "outputs": [],
   "source": [
    "#!conda install -c conda-forge py-xgboost\n",
    "import xgboost as xgb"
   ]
  },
  {
   "cell_type": "markdown",
   "id": "ff4815f2-8e60-444a-bef5-afa26d651543",
   "metadata": {
    "tags": []
   },
   "source": [
    "#### Tree base function"
   ]
  },
  {
   "cell_type": "code",
   "execution_count": 19,
   "id": "7dea2919-d478-4edb-9d6c-36ae97d11280",
   "metadata": {},
   "outputs": [],
   "source": [
    "# Database to store result\n",
    "df_accuracy = pd.DataFrame(columns=['Model name', 'Model arch.', 'Train Accuracy', 'Test_Accuracy', 'Time'])"
   ]
  },
  {
   "cell_type": "code",
   "execution_count": 20,
   "id": "21a58f5c-d20b-4de7-8491-5bc10eed3ae2",
   "metadata": {
    "tags": []
   },
   "outputs": [],
   "source": [
    "# Base models\n",
    "def model_performance(name, model):\n",
    "    start = time.time()\n",
    "    \n",
    "    # fit and make prediction \n",
    "    model.fit(X_train,y_train)\n",
    "    y_hat_train = model.predict(X_train)\n",
    "    y_hat_test = model.predict(X_test)\n",
    "    \n",
    "    # calculate accuracy\n",
    "    accuracy_train = round(accuracy_score(y_train, y_hat_train),5)\n",
    "    accuracy_test = round(accuracy_score(y_test, y_hat_test),5)\n",
    "    training_time = round(time.time()-start,2)\n",
    "    \n",
    "    # print result\n",
    "    #print('Train Accuracy:', accuracy_train)\n",
    "    #print('Test  Accuracy:', accuracy_test)\n",
    "    #print('Training time:', training_time,'s')\n",
    "    \n",
    "    # store result\n",
    "    df_accuracy.loc[len(df_accuracy.index)] = [name, model, accuracy_train, accuracy_test, training_time]\n",
    "    return df_accuracy.loc[len(df_accuracy.index)-1]"
   ]
  },
  {
   "cell_type": "code",
   "execution_count": 21,
   "id": "d9b18f5e-bbd1-4eff-b43f-83b892f67fd6",
   "metadata": {
    "tags": []
   },
   "outputs": [],
   "source": [
    "# Base models\n",
    "def model_performance_fat(name, model):\n",
    "    start = time.time()\n",
    "    \n",
    "    y_hat_train = model.predict(X_train)\n",
    "    y_hat_test = model.predict(X_test)\n",
    "    \n",
    "    # calculate accuracy\n",
    "    accuracy_train = round(accuracy_score(y_train, y_hat_train),5)\n",
    "    accuracy_test = round(accuracy_score(y_test, y_hat_test),5)\n",
    "    training_time = round(time.time()-start,2)\n",
    "    \n",
    "    # print result\n",
    "    #print('Train Accuracy:', accuracy_train)\n",
    "    #print('Test  Accuracy:', accuracy_test)\n",
    "    #print('Training time:', training_time,'s')\n",
    "    \n",
    "    # store result\n",
    "    df_accuracy.loc[len(df_accuracy.index)] = [name, model, accuracy_train, accuracy_test, training_time]\n",
    "    return df_accuracy.loc[len(df_accuracy.index)-1]"
   ]
  },
  {
   "cell_type": "code",
   "execution_count": 55,
   "id": "0344f9e7-5fcf-4af1-a996-29dc79b37300",
   "metadata": {},
   "outputs": [],
   "source": [
    "def retrain_X(model):\n",
    "    model.fit(X_all, Y, verbose = 2,\n",
    "              early_stopping_rounds=10,\n",
    "              eval_metric='aucpr',\n",
    "              eval_set=[(X_test, y_test)],\n",
    "             )"
   ]
  },
  {
   "cell_type": "code",
   "execution_count": 22,
   "id": "aa899446-1b74-41d1-bdaa-bff1a2d4d8e0",
   "metadata": {},
   "outputs": [],
   "source": [
    "# export submission\n",
    "def export_submission(model_name, model, note_version):\n",
    "    print('Exporting ',model_name,'...')\n",
    "    y_hat = np.round(model.predict(df_submit))\n",
    "    df_to_submit = pd.DataFrame()\n",
    "    df_to_submit['ID'] = ID_col\n",
    "    df_to_submit['Overall_Experience'] = y_hat\n",
    "    filename = 'submission_model_' + model_name + '_fromfile_' + note_version + '.csv'\n",
    "    df_to_submit.to_csv(filename, index = False)\n",
    "    print('Finish ',filename)"
   ]
  },
  {
   "cell_type": "markdown",
   "id": "134cc747-02be-445f-9f72-d1d9d5d3bced",
   "metadata": {
    "tags": []
   },
   "source": [
    "#### Data"
   ]
  },
  {
   "cell_type": "code",
   "execution_count": 23,
   "id": "151b7f86-ad88-4360-a2af-5833eda0c03f",
   "metadata": {},
   "outputs": [
    {
     "data": {
      "text/html": [
       "<div>\n",
       "<style scoped>\n",
       "    .dataframe tbody tr th:only-of-type {\n",
       "        vertical-align: middle;\n",
       "    }\n",
       "\n",
       "    .dataframe tbody tr th {\n",
       "        vertical-align: top;\n",
       "    }\n",
       "\n",
       "    .dataframe thead th {\n",
       "        text-align: right;\n",
       "    }\n",
       "</style>\n",
       "<table border=\"1\" class=\"dataframe\">\n",
       "  <thead>\n",
       "    <tr style=\"text-align: right;\">\n",
       "      <th></th>\n",
       "      <th>ID</th>\n",
       "      <th>Overall_Experience</th>\n",
       "      <th>Seat_Comfort</th>\n",
       "      <th>Seat_Class</th>\n",
       "      <th>Arrival_Time_Convenient</th>\n",
       "      <th>Catering</th>\n",
       "      <th>Platform_Location</th>\n",
       "      <th>Onboard_Wifi_Service</th>\n",
       "      <th>Onboard_Entertainment</th>\n",
       "      <th>Online_Support</th>\n",
       "      <th>Ease_of_Online_Booking</th>\n",
       "      <th>Onboard_Service</th>\n",
       "      <th>Legroom</th>\n",
       "      <th>Baggage_Handling</th>\n",
       "      <th>CheckIn_Service</th>\n",
       "      <th>Cleanliness</th>\n",
       "      <th>Online_Boarding</th>\n",
       "      <th>Gender</th>\n",
       "      <th>Customer_Type</th>\n",
       "      <th>Age</th>\n",
       "      <th>Type_Travel</th>\n",
       "      <th>Travel_Class</th>\n",
       "      <th>Travel_Distance</th>\n",
       "      <th>Departure_Delay_in_Mins</th>\n",
       "      <th>Arrival_Delay_in_Mins</th>\n",
       "    </tr>\n",
       "  </thead>\n",
       "  <tbody>\n",
       "    <tr>\n",
       "      <th>0</th>\n",
       "      <td>98800001</td>\n",
       "      <td>0</td>\n",
       "      <td>Needs Improvement</td>\n",
       "      <td>Green Car</td>\n",
       "      <td>Excellent</td>\n",
       "      <td>Excellent</td>\n",
       "      <td>Very Convenient</td>\n",
       "      <td>Good</td>\n",
       "      <td>Needs Improvement</td>\n",
       "      <td>Acceptable</td>\n",
       "      <td>Needs Improvement</td>\n",
       "      <td>Needs Improvement</td>\n",
       "      <td>Acceptable</td>\n",
       "      <td>Needs Improvement</td>\n",
       "      <td>Good</td>\n",
       "      <td>Needs Improvement</td>\n",
       "      <td>Poor</td>\n",
       "      <td>Female</td>\n",
       "      <td>Loyal Customer</td>\n",
       "      <td>52.0</td>\n",
       "      <td>Business Travel</td>\n",
       "      <td>Business</td>\n",
       "      <td>272</td>\n",
       "      <td>0.0</td>\n",
       "      <td>5.0</td>\n",
       "    </tr>\n",
       "    <tr>\n",
       "      <th>1</th>\n",
       "      <td>98800002</td>\n",
       "      <td>0</td>\n",
       "      <td>Poor</td>\n",
       "      <td>Ordinary</td>\n",
       "      <td>Excellent</td>\n",
       "      <td>Poor</td>\n",
       "      <td>Needs Improvement</td>\n",
       "      <td>Good</td>\n",
       "      <td>Poor</td>\n",
       "      <td>Good</td>\n",
       "      <td>Good</td>\n",
       "      <td>Excellent</td>\n",
       "      <td>Needs Improvement</td>\n",
       "      <td>Poor</td>\n",
       "      <td>Needs Improvement</td>\n",
       "      <td>Good</td>\n",
       "      <td>Good</td>\n",
       "      <td>Male</td>\n",
       "      <td>Loyal Customer</td>\n",
       "      <td>48.0</td>\n",
       "      <td>Personal Travel</td>\n",
       "      <td>Eco</td>\n",
       "      <td>2200</td>\n",
       "      <td>9.0</td>\n",
       "      <td>0.0</td>\n",
       "    </tr>\n",
       "    <tr>\n",
       "      <th>2</th>\n",
       "      <td>98800003</td>\n",
       "      <td>1</td>\n",
       "      <td>Needs Improvement</td>\n",
       "      <td>Green Car</td>\n",
       "      <td>Needs Improvement</td>\n",
       "      <td>Needs Improvement</td>\n",
       "      <td>Needs Improvement</td>\n",
       "      <td>Needs Improvement</td>\n",
       "      <td>Good</td>\n",
       "      <td>Excellent</td>\n",
       "      <td>Excellent</td>\n",
       "      <td>Excellent</td>\n",
       "      <td>Excellent</td>\n",
       "      <td>Excellent</td>\n",
       "      <td>Good</td>\n",
       "      <td>Excellent</td>\n",
       "      <td>Excellent</td>\n",
       "      <td>Female</td>\n",
       "      <td>Loyal Customer</td>\n",
       "      <td>43.0</td>\n",
       "      <td>Business Travel</td>\n",
       "      <td>Business</td>\n",
       "      <td>1061</td>\n",
       "      <td>77.0</td>\n",
       "      <td>119.0</td>\n",
       "    </tr>\n",
       "    <tr>\n",
       "      <th>3</th>\n",
       "      <td>98800004</td>\n",
       "      <td>0</td>\n",
       "      <td>Acceptable</td>\n",
       "      <td>Ordinary</td>\n",
       "      <td>Needs Improvement</td>\n",
       "      <td>Acceptable</td>\n",
       "      <td>Needs Improvement</td>\n",
       "      <td>Acceptable</td>\n",
       "      <td>Needs Improvement</td>\n",
       "      <td>Acceptable</td>\n",
       "      <td>Acceptable</td>\n",
       "      <td>Acceptable</td>\n",
       "      <td>Acceptable</td>\n",
       "      <td>Acceptable</td>\n",
       "      <td>Good</td>\n",
       "      <td>Acceptable</td>\n",
       "      <td>Acceptable</td>\n",
       "      <td>Female</td>\n",
       "      <td>Loyal Customer</td>\n",
       "      <td>44.0</td>\n",
       "      <td>Business Travel</td>\n",
       "      <td>Business</td>\n",
       "      <td>780</td>\n",
       "      <td>13.0</td>\n",
       "      <td>18.0</td>\n",
       "    </tr>\n",
       "    <tr>\n",
       "      <th>4</th>\n",
       "      <td>98800005</td>\n",
       "      <td>1</td>\n",
       "      <td>Acceptable</td>\n",
       "      <td>Ordinary</td>\n",
       "      <td>Acceptable</td>\n",
       "      <td>Acceptable</td>\n",
       "      <td>Manageable</td>\n",
       "      <td>Needs Improvement</td>\n",
       "      <td>Good</td>\n",
       "      <td>Excellent</td>\n",
       "      <td>Good</td>\n",
       "      <td>Good</td>\n",
       "      <td>Good</td>\n",
       "      <td>Good</td>\n",
       "      <td>Good</td>\n",
       "      <td>Good</td>\n",
       "      <td>Good</td>\n",
       "      <td>Female</td>\n",
       "      <td>Loyal Customer</td>\n",
       "      <td>50.0</td>\n",
       "      <td>Business Travel</td>\n",
       "      <td>Business</td>\n",
       "      <td>1981</td>\n",
       "      <td>0.0</td>\n",
       "      <td>0.0</td>\n",
       "    </tr>\n",
       "  </tbody>\n",
       "</table>\n",
       "</div>"
      ],
      "text/plain": [
       "         ID  Overall_Experience       Seat_Comfort Seat_Class  \\\n",
       "0  98800001                   0  Needs Improvement  Green Car   \n",
       "1  98800002                   0               Poor   Ordinary   \n",
       "2  98800003                   1  Needs Improvement  Green Car   \n",
       "3  98800004                   0         Acceptable   Ordinary   \n",
       "4  98800005                   1         Acceptable   Ordinary   \n",
       "\n",
       "  Arrival_Time_Convenient           Catering  Platform_Location  \\\n",
       "0               Excellent          Excellent    Very Convenient   \n",
       "1               Excellent               Poor  Needs Improvement   \n",
       "2       Needs Improvement  Needs Improvement  Needs Improvement   \n",
       "3       Needs Improvement         Acceptable  Needs Improvement   \n",
       "4              Acceptable         Acceptable         Manageable   \n",
       "\n",
       "  Onboard_Wifi_Service Onboard_Entertainment Online_Support  \\\n",
       "0                 Good     Needs Improvement     Acceptable   \n",
       "1                 Good                  Poor           Good   \n",
       "2    Needs Improvement                  Good      Excellent   \n",
       "3           Acceptable     Needs Improvement     Acceptable   \n",
       "4    Needs Improvement                  Good      Excellent   \n",
       "\n",
       "  Ease_of_Online_Booking    Onboard_Service            Legroom  \\\n",
       "0      Needs Improvement  Needs Improvement         Acceptable   \n",
       "1                   Good          Excellent  Needs Improvement   \n",
       "2              Excellent          Excellent          Excellent   \n",
       "3             Acceptable         Acceptable         Acceptable   \n",
       "4                   Good               Good               Good   \n",
       "\n",
       "    Baggage_Handling    CheckIn_Service        Cleanliness Online_Boarding  \\\n",
       "0  Needs Improvement               Good  Needs Improvement            Poor   \n",
       "1               Poor  Needs Improvement               Good            Good   \n",
       "2          Excellent               Good          Excellent       Excellent   \n",
       "3         Acceptable               Good         Acceptable      Acceptable   \n",
       "4               Good               Good               Good            Good   \n",
       "\n",
       "   Gender   Customer_Type   Age      Type_Travel Travel_Class  \\\n",
       "0  Female  Loyal Customer  52.0  Business Travel     Business   \n",
       "1    Male  Loyal Customer  48.0  Personal Travel          Eco   \n",
       "2  Female  Loyal Customer  43.0  Business Travel     Business   \n",
       "3  Female  Loyal Customer  44.0  Business Travel     Business   \n",
       "4  Female  Loyal Customer  50.0  Business Travel     Business   \n",
       "\n",
       "   Travel_Distance  Departure_Delay_in_Mins  Arrival_Delay_in_Mins  \n",
       "0              272                      0.0                    5.0  \n",
       "1             2200                      9.0                    0.0  \n",
       "2             1061                     77.0                  119.0  \n",
       "3              780                     13.0                   18.0  \n",
       "4             1981                      0.0                    0.0  "
      ]
     },
     "execution_count": 23,
     "metadata": {},
     "output_type": "execute_result"
    }
   ],
   "source": [
    "df = pd.read_csv(\"df_imputed_from2.0.csv\")\n",
    "df.drop(columns=['Unnamed: 0',],inplace=True)\n",
    "df.head()"
   ]
  },
  {
   "cell_type": "code",
   "execution_count": 24,
   "id": "658c62ff-da33-4760-9b24-6a1d57431e11",
   "metadata": {},
   "outputs": [
    {
     "data": {
      "text/html": [
       "<div>\n",
       "<style scoped>\n",
       "    .dataframe tbody tr th:only-of-type {\n",
       "        vertical-align: middle;\n",
       "    }\n",
       "\n",
       "    .dataframe tbody tr th {\n",
       "        vertical-align: top;\n",
       "    }\n",
       "\n",
       "    .dataframe thead th {\n",
       "        text-align: right;\n",
       "    }\n",
       "</style>\n",
       "<table border=\"1\" class=\"dataframe\">\n",
       "  <thead>\n",
       "    <tr style=\"text-align: right;\">\n",
       "      <th></th>\n",
       "      <th>ID</th>\n",
       "      <th>Seat_Comfort</th>\n",
       "      <th>Seat_Class</th>\n",
       "      <th>Arrival_Time_Convenient</th>\n",
       "      <th>Catering</th>\n",
       "      <th>Platform_Location</th>\n",
       "      <th>Onboard_Wifi_Service</th>\n",
       "      <th>Onboard_Entertainment</th>\n",
       "      <th>Online_Support</th>\n",
       "      <th>Ease_of_Online_Booking</th>\n",
       "      <th>Onboard_Service</th>\n",
       "      <th>Legroom</th>\n",
       "      <th>Baggage_Handling</th>\n",
       "      <th>CheckIn_Service</th>\n",
       "      <th>Cleanliness</th>\n",
       "      <th>Online_Boarding</th>\n",
       "      <th>Gender</th>\n",
       "      <th>Customer_Type</th>\n",
       "      <th>Age</th>\n",
       "      <th>Type_Travel</th>\n",
       "      <th>Travel_Class</th>\n",
       "      <th>Travel_Distance</th>\n",
       "      <th>Departure_Delay_in_Mins</th>\n",
       "      <th>Arrival_Delay_in_Mins</th>\n",
       "    </tr>\n",
       "  </thead>\n",
       "  <tbody>\n",
       "    <tr>\n",
       "      <th>0</th>\n",
       "      <td>99900001</td>\n",
       "      <td>Acceptable</td>\n",
       "      <td>Green Car</td>\n",
       "      <td>Acceptable</td>\n",
       "      <td>Acceptable</td>\n",
       "      <td>Manageable</td>\n",
       "      <td>Needs Improvement</td>\n",
       "      <td>Excellent</td>\n",
       "      <td>Good</td>\n",
       "      <td>Excellent</td>\n",
       "      <td>Excellent</td>\n",
       "      <td>Excellent</td>\n",
       "      <td>Excellent</td>\n",
       "      <td>Good</td>\n",
       "      <td>Excellent</td>\n",
       "      <td>Poor</td>\n",
       "      <td>Female</td>\n",
       "      <td>Loyal Customer</td>\n",
       "      <td>36.0</td>\n",
       "      <td>Business Travel</td>\n",
       "      <td>Business</td>\n",
       "      <td>532</td>\n",
       "      <td>0.0</td>\n",
       "      <td>0.0</td>\n",
       "    </tr>\n",
       "    <tr>\n",
       "      <th>1</th>\n",
       "      <td>99900002</td>\n",
       "      <td>Extremely Poor</td>\n",
       "      <td>Ordinary</td>\n",
       "      <td>Good</td>\n",
       "      <td>Poor</td>\n",
       "      <td>Manageable</td>\n",
       "      <td>Acceptable</td>\n",
       "      <td>Poor</td>\n",
       "      <td>Acceptable</td>\n",
       "      <td>Acceptable</td>\n",
       "      <td>Excellent</td>\n",
       "      <td>Acceptable</td>\n",
       "      <td>Good</td>\n",
       "      <td>Acceptable</td>\n",
       "      <td>Excellent</td>\n",
       "      <td>Acceptable</td>\n",
       "      <td>Female</td>\n",
       "      <td>Disloyal Customer</td>\n",
       "      <td>21.0</td>\n",
       "      <td>Business Travel</td>\n",
       "      <td>Business</td>\n",
       "      <td>1425</td>\n",
       "      <td>9.0</td>\n",
       "      <td>28.0</td>\n",
       "    </tr>\n",
       "    <tr>\n",
       "      <th>2</th>\n",
       "      <td>99900003</td>\n",
       "      <td>Excellent</td>\n",
       "      <td>Ordinary</td>\n",
       "      <td>Excellent</td>\n",
       "      <td>Excellent</td>\n",
       "      <td>Very Convenient</td>\n",
       "      <td>Excellent</td>\n",
       "      <td>Excellent</td>\n",
       "      <td>Excellent</td>\n",
       "      <td>Needs Improvement</td>\n",
       "      <td>Needs Improvement</td>\n",
       "      <td>Needs Improvement</td>\n",
       "      <td>Needs Improvement</td>\n",
       "      <td>Good</td>\n",
       "      <td>Needs Improvement</td>\n",
       "      <td>Excellent</td>\n",
       "      <td>Male</td>\n",
       "      <td>Loyal Customer</td>\n",
       "      <td>60.0</td>\n",
       "      <td>Business Travel</td>\n",
       "      <td>Business</td>\n",
       "      <td>2832</td>\n",
       "      <td>0.0</td>\n",
       "      <td>0.0</td>\n",
       "    </tr>\n",
       "    <tr>\n",
       "      <th>3</th>\n",
       "      <td>99900004</td>\n",
       "      <td>Acceptable</td>\n",
       "      <td>Green Car</td>\n",
       "      <td>Excellent</td>\n",
       "      <td>Acceptable</td>\n",
       "      <td>Very Convenient</td>\n",
       "      <td>Poor</td>\n",
       "      <td>Acceptable</td>\n",
       "      <td>Excellent</td>\n",
       "      <td>Poor</td>\n",
       "      <td>Acceptable</td>\n",
       "      <td>Needs Improvement</td>\n",
       "      <td>Excellent</td>\n",
       "      <td>Excellent</td>\n",
       "      <td>Excellent</td>\n",
       "      <td>Poor</td>\n",
       "      <td>Female</td>\n",
       "      <td>Loyal Customer</td>\n",
       "      <td>29.0</td>\n",
       "      <td>Personal Travel</td>\n",
       "      <td>Eco</td>\n",
       "      <td>1352</td>\n",
       "      <td>0.0</td>\n",
       "      <td>0.0</td>\n",
       "    </tr>\n",
       "    <tr>\n",
       "      <th>4</th>\n",
       "      <td>99900005</td>\n",
       "      <td>Excellent</td>\n",
       "      <td>Ordinary</td>\n",
       "      <td>Extremely Poor</td>\n",
       "      <td>Excellent</td>\n",
       "      <td>Needs Improvement</td>\n",
       "      <td>Excellent</td>\n",
       "      <td>Excellent</td>\n",
       "      <td>Excellent</td>\n",
       "      <td>Excellent</td>\n",
       "      <td>Excellent</td>\n",
       "      <td>Acceptable</td>\n",
       "      <td>Excellent</td>\n",
       "      <td>Excellent</td>\n",
       "      <td>Excellent</td>\n",
       "      <td>Excellent</td>\n",
       "      <td>Male</td>\n",
       "      <td>Disloyal Customer</td>\n",
       "      <td>18.0</td>\n",
       "      <td>Business Travel</td>\n",
       "      <td>Business</td>\n",
       "      <td>1610</td>\n",
       "      <td>17.0</td>\n",
       "      <td>0.0</td>\n",
       "    </tr>\n",
       "  </tbody>\n",
       "</table>\n",
       "</div>"
      ],
      "text/plain": [
       "         ID    Seat_Comfort Seat_Class Arrival_Time_Convenient    Catering  \\\n",
       "0  99900001      Acceptable  Green Car              Acceptable  Acceptable   \n",
       "1  99900002  Extremely Poor   Ordinary                    Good        Poor   \n",
       "2  99900003       Excellent   Ordinary               Excellent   Excellent   \n",
       "3  99900004      Acceptable  Green Car               Excellent  Acceptable   \n",
       "4  99900005       Excellent   Ordinary          Extremely Poor   Excellent   \n",
       "\n",
       "   Platform_Location Onboard_Wifi_Service Onboard_Entertainment  \\\n",
       "0         Manageable    Needs Improvement             Excellent   \n",
       "1         Manageable           Acceptable                  Poor   \n",
       "2    Very Convenient            Excellent             Excellent   \n",
       "3    Very Convenient                 Poor            Acceptable   \n",
       "4  Needs Improvement            Excellent             Excellent   \n",
       "\n",
       "  Online_Support Ease_of_Online_Booking    Onboard_Service            Legroom  \\\n",
       "0           Good              Excellent          Excellent          Excellent   \n",
       "1     Acceptable             Acceptable          Excellent         Acceptable   \n",
       "2      Excellent      Needs Improvement  Needs Improvement  Needs Improvement   \n",
       "3      Excellent                   Poor         Acceptable  Needs Improvement   \n",
       "4      Excellent              Excellent          Excellent         Acceptable   \n",
       "\n",
       "    Baggage_Handling CheckIn_Service        Cleanliness Online_Boarding  \\\n",
       "0          Excellent            Good          Excellent            Poor   \n",
       "1               Good      Acceptable          Excellent      Acceptable   \n",
       "2  Needs Improvement            Good  Needs Improvement       Excellent   \n",
       "3          Excellent       Excellent          Excellent            Poor   \n",
       "4          Excellent       Excellent          Excellent       Excellent   \n",
       "\n",
       "   Gender      Customer_Type   Age      Type_Travel Travel_Class  \\\n",
       "0  Female     Loyal Customer  36.0  Business Travel     Business   \n",
       "1  Female  Disloyal Customer  21.0  Business Travel     Business   \n",
       "2    Male     Loyal Customer  60.0  Business Travel     Business   \n",
       "3  Female     Loyal Customer  29.0  Personal Travel          Eco   \n",
       "4    Male  Disloyal Customer  18.0  Business Travel     Business   \n",
       "\n",
       "   Travel_Distance  Departure_Delay_in_Mins  Arrival_Delay_in_Mins  \n",
       "0              532                      0.0                    0.0  \n",
       "1             1425                      9.0                   28.0  \n",
       "2             2832                      0.0                    0.0  \n",
       "3             1352                      0.0                    0.0  \n",
       "4             1610                     17.0                    0.0  "
      ]
     },
     "execution_count": 24,
     "metadata": {},
     "output_type": "execute_result"
    }
   ],
   "source": [
    "df_submit = pd.read_csv(\"df_submit_imputed_from2.0.csv\")\n",
    "df_submit.drop(columns=['Unnamed: 0',],inplace=True)\n",
    "df_submit.head()"
   ]
  },
  {
   "cell_type": "markdown",
   "id": "fd14c255-0955-4c25-bd87-d70d93bb372a",
   "metadata": {
    "tags": []
   },
   "source": [
    "### 1/ Prep"
   ]
  },
  {
   "cell_type": "code",
   "execution_count": 25,
   "id": "dc2e81f4-81a5-4153-ab51-5063ac808773",
   "metadata": {},
   "outputs": [],
   "source": [
    "unnecessary_cols = ['ID']\n",
    "df.drop(columns = unnecessary_cols, inplace=True)\n",
    "\n",
    "ID_col = df_submit['ID']\n",
    "df_submit.drop(columns = unnecessary_cols, inplace=True)"
   ]
  },
  {
   "cell_type": "code",
   "execution_count": 26,
   "id": "91de74e5-5843-4fd8-97a6-0efbd180cdc9",
   "metadata": {},
   "outputs": [
    {
     "data": {
      "text/html": [
       "<div>\n",
       "<style scoped>\n",
       "    .dataframe tbody tr th:only-of-type {\n",
       "        vertical-align: middle;\n",
       "    }\n",
       "\n",
       "    .dataframe tbody tr th {\n",
       "        vertical-align: top;\n",
       "    }\n",
       "\n",
       "    .dataframe thead th {\n",
       "        text-align: right;\n",
       "    }\n",
       "</style>\n",
       "<table border=\"1\" class=\"dataframe\">\n",
       "  <thead>\n",
       "    <tr style=\"text-align: right;\">\n",
       "      <th></th>\n",
       "      <th>Overall_Experience</th>\n",
       "      <th>Seat_Comfort</th>\n",
       "      <th>Seat_Class</th>\n",
       "      <th>Arrival_Time_Convenient</th>\n",
       "      <th>Catering</th>\n",
       "      <th>Platform_Location</th>\n",
       "      <th>Onboard_Wifi_Service</th>\n",
       "      <th>Onboard_Entertainment</th>\n",
       "      <th>Online_Support</th>\n",
       "      <th>Ease_of_Online_Booking</th>\n",
       "      <th>Onboard_Service</th>\n",
       "      <th>Legroom</th>\n",
       "      <th>Baggage_Handling</th>\n",
       "      <th>CheckIn_Service</th>\n",
       "      <th>Cleanliness</th>\n",
       "      <th>Online_Boarding</th>\n",
       "      <th>Gender</th>\n",
       "      <th>Customer_Type</th>\n",
       "      <th>Age</th>\n",
       "      <th>Type_Travel</th>\n",
       "      <th>Travel_Class</th>\n",
       "      <th>Travel_Distance</th>\n",
       "      <th>Departure_Delay_in_Mins</th>\n",
       "      <th>Arrival_Delay_in_Mins</th>\n",
       "    </tr>\n",
       "  </thead>\n",
       "  <tbody>\n",
       "    <tr>\n",
       "      <th>0</th>\n",
       "      <td>0</td>\n",
       "      <td>2</td>\n",
       "      <td>Green Car</td>\n",
       "      <td>5</td>\n",
       "      <td>5</td>\n",
       "      <td>5</td>\n",
       "      <td>4</td>\n",
       "      <td>2</td>\n",
       "      <td>3</td>\n",
       "      <td>2</td>\n",
       "      <td>2</td>\n",
       "      <td>3</td>\n",
       "      <td>2</td>\n",
       "      <td>4</td>\n",
       "      <td>2</td>\n",
       "      <td>1</td>\n",
       "      <td>Female</td>\n",
       "      <td>Loyal Customer</td>\n",
       "      <td>52.0</td>\n",
       "      <td>Business Travel</td>\n",
       "      <td>Business</td>\n",
       "      <td>272</td>\n",
       "      <td>0.0</td>\n",
       "      <td>5.0</td>\n",
       "    </tr>\n",
       "    <tr>\n",
       "      <th>1</th>\n",
       "      <td>0</td>\n",
       "      <td>1</td>\n",
       "      <td>Ordinary</td>\n",
       "      <td>5</td>\n",
       "      <td>1</td>\n",
       "      <td>2</td>\n",
       "      <td>4</td>\n",
       "      <td>1</td>\n",
       "      <td>4</td>\n",
       "      <td>4</td>\n",
       "      <td>5</td>\n",
       "      <td>2</td>\n",
       "      <td>1</td>\n",
       "      <td>2</td>\n",
       "      <td>4</td>\n",
       "      <td>4</td>\n",
       "      <td>Male</td>\n",
       "      <td>Loyal Customer</td>\n",
       "      <td>48.0</td>\n",
       "      <td>Personal Travel</td>\n",
       "      <td>Eco</td>\n",
       "      <td>2200</td>\n",
       "      <td>9.0</td>\n",
       "      <td>0.0</td>\n",
       "    </tr>\n",
       "    <tr>\n",
       "      <th>2</th>\n",
       "      <td>1</td>\n",
       "      <td>2</td>\n",
       "      <td>Green Car</td>\n",
       "      <td>2</td>\n",
       "      <td>2</td>\n",
       "      <td>2</td>\n",
       "      <td>2</td>\n",
       "      <td>4</td>\n",
       "      <td>5</td>\n",
       "      <td>5</td>\n",
       "      <td>5</td>\n",
       "      <td>5</td>\n",
       "      <td>5</td>\n",
       "      <td>4</td>\n",
       "      <td>5</td>\n",
       "      <td>5</td>\n",
       "      <td>Female</td>\n",
       "      <td>Loyal Customer</td>\n",
       "      <td>43.0</td>\n",
       "      <td>Business Travel</td>\n",
       "      <td>Business</td>\n",
       "      <td>1061</td>\n",
       "      <td>77.0</td>\n",
       "      <td>119.0</td>\n",
       "    </tr>\n",
       "    <tr>\n",
       "      <th>3</th>\n",
       "      <td>0</td>\n",
       "      <td>3</td>\n",
       "      <td>Ordinary</td>\n",
       "      <td>2</td>\n",
       "      <td>3</td>\n",
       "      <td>2</td>\n",
       "      <td>3</td>\n",
       "      <td>2</td>\n",
       "      <td>3</td>\n",
       "      <td>3</td>\n",
       "      <td>3</td>\n",
       "      <td>3</td>\n",
       "      <td>3</td>\n",
       "      <td>4</td>\n",
       "      <td>3</td>\n",
       "      <td>3</td>\n",
       "      <td>Female</td>\n",
       "      <td>Loyal Customer</td>\n",
       "      <td>44.0</td>\n",
       "      <td>Business Travel</td>\n",
       "      <td>Business</td>\n",
       "      <td>780</td>\n",
       "      <td>13.0</td>\n",
       "      <td>18.0</td>\n",
       "    </tr>\n",
       "    <tr>\n",
       "      <th>4</th>\n",
       "      <td>1</td>\n",
       "      <td>3</td>\n",
       "      <td>Ordinary</td>\n",
       "      <td>3</td>\n",
       "      <td>3</td>\n",
       "      <td>3</td>\n",
       "      <td>2</td>\n",
       "      <td>4</td>\n",
       "      <td>5</td>\n",
       "      <td>4</td>\n",
       "      <td>4</td>\n",
       "      <td>4</td>\n",
       "      <td>4</td>\n",
       "      <td>4</td>\n",
       "      <td>4</td>\n",
       "      <td>4</td>\n",
       "      <td>Female</td>\n",
       "      <td>Loyal Customer</td>\n",
       "      <td>50.0</td>\n",
       "      <td>Business Travel</td>\n",
       "      <td>Business</td>\n",
       "      <td>1981</td>\n",
       "      <td>0.0</td>\n",
       "      <td>0.0</td>\n",
       "    </tr>\n",
       "  </tbody>\n",
       "</table>\n",
       "</div>"
      ],
      "text/plain": [
       "   Overall_Experience  Seat_Comfort Seat_Class  Arrival_Time_Convenient  \\\n",
       "0                   0             2  Green Car                        5   \n",
       "1                   0             1   Ordinary                        5   \n",
       "2                   1             2  Green Car                        2   \n",
       "3                   0             3   Ordinary                        2   \n",
       "4                   1             3   Ordinary                        3   \n",
       "\n",
       "   Catering  Platform_Location  Onboard_Wifi_Service  Onboard_Entertainment  \\\n",
       "0         5                  5                     4                      2   \n",
       "1         1                  2                     4                      1   \n",
       "2         2                  2                     2                      4   \n",
       "3         3                  2                     3                      2   \n",
       "4         3                  3                     2                      4   \n",
       "\n",
       "   Online_Support  Ease_of_Online_Booking  Onboard_Service  Legroom  \\\n",
       "0               3                       2                2        3   \n",
       "1               4                       4                5        2   \n",
       "2               5                       5                5        5   \n",
       "3               3                       3                3        3   \n",
       "4               5                       4                4        4   \n",
       "\n",
       "   Baggage_Handling  CheckIn_Service  Cleanliness  Online_Boarding  Gender  \\\n",
       "0                 2                4            2                1  Female   \n",
       "1                 1                2            4                4    Male   \n",
       "2                 5                4            5                5  Female   \n",
       "3                 3                4            3                3  Female   \n",
       "4                 4                4            4                4  Female   \n",
       "\n",
       "    Customer_Type   Age      Type_Travel Travel_Class  Travel_Distance  \\\n",
       "0  Loyal Customer  52.0  Business Travel     Business              272   \n",
       "1  Loyal Customer  48.0  Personal Travel          Eco             2200   \n",
       "2  Loyal Customer  43.0  Business Travel     Business             1061   \n",
       "3  Loyal Customer  44.0  Business Travel     Business              780   \n",
       "4  Loyal Customer  50.0  Business Travel     Business             1981   \n",
       "\n",
       "   Departure_Delay_in_Mins  Arrival_Delay_in_Mins  \n",
       "0                      0.0                    5.0  \n",
       "1                      9.0                    0.0  \n",
       "2                     77.0                  119.0  \n",
       "3                     13.0                   18.0  \n",
       "4                      0.0                    0.0  "
      ]
     },
     "execution_count": 26,
     "metadata": {},
     "output_type": "execute_result"
    }
   ],
   "source": [
    "#Convert rating to numeric first\n",
    "standard_rating = ['Seat_Comfort',\n",
    "                   'Arrival_Time_Convenient',\n",
    "                   'Catering',\n",
    "                   'Onboard_Wifi_Service',\n",
    "                   'Onboard_Entertainment',\n",
    "                   'Online_Support',\n",
    "                   'Ease_of_Online_Booking',\n",
    "                   'Onboard_Service',\n",
    "                   'Legroom',\n",
    "                   'Baggage_Handling',\n",
    "                   'CheckIn_Service',\n",
    "                   'Cleanliness',\n",
    "                   'Online_Boarding']\n",
    "\n",
    "for col in standard_rating:\n",
    "    df[col].replace(['Excellent', 'Good', 'Acceptable', 'Needs Improvement', 'Poor', 'Extremely Poor'],\n",
    "                    [5, 4, 3, 2, 1, 0], inplace = True)\n",
    "    df_submit[col].replace(['Excellent', 'Good', 'Acceptable', 'Needs Improvement', 'Poor', 'Extremely Poor'],\n",
    "                    [5, 4, 3, 2, 1, 0], inplace = True)\n",
    "df['Platform_Location'].replace(['Very Convenient', 'Convenient', 'Manageable', 'Needs Improvement', 'Inconvenient','Very Inconvenient'], \n",
    "                                [5,4,3,2,1,0], inplace = True)\n",
    "df_submit['Platform_Location'].replace(['Very Convenient', 'Convenient', 'Manageable', 'Needs Improvement', 'Inconvenient','Very Inconvenient'], \n",
    "                                [5,4,3,2,1,0], inplace = True)\n",
    "df.head(5)"
   ]
  },
  {
   "cell_type": "code",
   "execution_count": 27,
   "id": "59ff40e1-5fd0-40c7-90d0-55c425320e7b",
   "metadata": {},
   "outputs": [],
   "source": [
    "# Creating list of dummy columns\n",
    "to_get_dummies1 = ['Seat_Class','Customer_Type','Type_Travel','Gender', 'Travel_Class',]\n",
    "\n",
    "# Creating dummy variables\n",
    "df = pd.get_dummies(data = df, columns = to_get_dummies1, drop_first = True)  \n",
    "df_submit = pd.get_dummies(data = df_submit, columns = to_get_dummies1, drop_first = True)  "
   ]
  },
  {
   "cell_type": "markdown",
   "id": "b017e79c-4926-4450-b604-8ec642454eff",
   "metadata": {},
   "source": [
    "### Split"
   ]
  },
  {
   "cell_type": "code",
   "execution_count": 28,
   "id": "d34c5769-e2dc-4f7b-b3e6-47e28555f7f2",
   "metadata": {},
   "outputs": [],
   "source": [
    "Y = df['Overall_Experience']"
   ]
  },
  {
   "cell_type": "code",
   "execution_count": 29,
   "id": "2fd90b2c-b793-4829-bd1a-a9d610165797",
   "metadata": {},
   "outputs": [],
   "source": [
    "X = df.drop(columns = ['Overall_Experience'])"
   ]
  },
  {
   "cell_type": "code",
   "execution_count": 30,
   "id": "7da37e4b-cab7-47f3-8cdf-5fa14af0cca1",
   "metadata": {},
   "outputs": [],
   "source": [
    "#X = X.values.astype(float)\n",
    "X_train, X_test, y_train, y_test = train_test_split(X, Y, test_size=0.2, random_state=14)\n",
    "\n",
    "scaler = preprocessing.StandardScaler()\n",
    "X_train = scaler.fit_transform(X_train)\n",
    "X_test = scaler.transform(X_test)\n",
    "\n",
    "df_submit = scaler.transform(df_submit)"
   ]
  },
  {
   "cell_type": "code",
   "execution_count": 46,
   "id": "cee69c82-f17b-4bc7-8acd-101878cc50bc",
   "metadata": {},
   "outputs": [],
   "source": [
    "X_all = scaler.transform(X)"
   ]
  },
  {
   "cell_type": "raw",
   "id": "b6bb2800-b842-4118-b1ce-fbcfcb2d109e",
   "metadata": {},
   "source": [
    "RF_base = RandomForestClassifier(random_state = 14)\n",
    "ADA_1 = AdaBoostClassifier(base_estimator=RF_base, n_estimators=22, learning_rate=0.1, random_state= 88)"
   ]
  },
  {
   "cell_type": "raw",
   "id": "e794e29a-5db3-452e-b73a-7d2af26b89b6",
   "metadata": {},
   "source": [
    "model_performance('ADA_1', ADA_1)"
   ]
  },
  {
   "cell_type": "markdown",
   "id": "5cd0e02d-ec78-4586-9d99-be9243b37ba2",
   "metadata": {
    "jp-MarkdownHeadingCollapsed": true,
    "tags": []
   },
   "source": [
    "### XGBoost"
   ]
  },
  {
   "cell_type": "raw",
   "id": "c68a74be-447d-4b32-b217-066615bbecba",
   "metadata": {
    "tags": []
   },
   "source": [
    "XGB_base1 = xgb.XGBClassifier(objective='binary:logistic', seed=14)\n",
    "XGB_base1.fit(X_train, y_train, verbose = 2,\n",
    "          early_stopping_rounds=10,\n",
    "          eval_metric='aucpr',\n",
    "          eval_set=[(X_test, y_test)],\n",
    "         )"
   ]
  },
  {
   "cell_type": "raw",
   "id": "38fe769c-21fb-446c-b404-7943d3f794ab",
   "metadata": {},
   "source": [
    "model_performance_fat('XGB_base1', XGB_base1)"
   ]
  },
  {
   "cell_type": "raw",
   "id": "85abcd25-d7b4-43e2-9737-bb1f91694442",
   "metadata": {},
   "source": [
    "export_submission('XGB_base1', XGB_base1, '5.1')"
   ]
  },
  {
   "cell_type": "markdown",
   "id": "5c6da967-a32b-49d7-a54b-b2c2e699acd1",
   "metadata": {
    "tags": []
   },
   "source": [
    "### XGBoost params tuning"
   ]
  },
  {
   "cell_type": "code",
   "execution_count": 34,
   "id": "094aa06b-5cc5-46cb-af68-529e6d3f6677",
   "metadata": {
    "tags": []
   },
   "outputs": [
    {
     "name": "stdout",
     "output_type": "stream",
     "text": [
      "Fitting 3 folds for each of 5 candidates, totalling 15 fits\n",
      "[14:48:30] WARNING: C:\\Windows\\Temp\\abs_557yfx631l\\croots\\recipe\\xgboost-split_1659548953302\\work\\src\\learner.cc:1115: Starting in XGBoost 1.3.0, the default evaluation metric used with the objective 'binary:logistic' was changed from 'error' to 'logloss'. Explicitly set eval_metric if you'd like to restore the old behavior.\n",
      "Completed in: 43.01\n"
     ]
    }
   ],
   "source": [
    "start = time.time()\n",
    "random_grid = {'max_depth': np.arange(3,22,2),\n",
    "               'learning_rate': [0.5,0.1, 0.05],\n",
    "               'gamma': [0.0, 0.25, 1.0],\n",
    "               'reg_lambda': [0.0, 1.0, 10.0],\n",
    "               }\n",
    "estimator = xgb.XGBClassifier(objective='binary:logistic', seed=14)\n",
    "optimal_params = RandomizedSearchCV(estimator = estimator,\n",
    "                                    param_distributions = random_grid,\n",
    "                                    n_iter = 5, \n",
    "                                    cv = 3, \n",
    "                                    verbose=3, \n",
    "                                    random_state=42, \n",
    "                                    n_jobs = 10,\n",
    "                                    scoring = 'roc_auc'\n",
    "                                   )\n",
    "\n",
    "optimal_params.fit(X_train, y_train)\n",
    "print('Completed in:', round(time.time()-start,2))"
   ]
  },
  {
   "cell_type": "code",
   "execution_count": 35,
   "id": "e23e2550-7f01-4970-bca8-6f2549ce174d",
   "metadata": {},
   "outputs": [
    {
     "name": "stdout",
     "output_type": "stream",
     "text": [
      "{'reg_lambda': 0.0, 'max_depth': 9, 'learning_rate': 0.1, 'gamma': 1.0}\n"
     ]
    }
   ],
   "source": [
    "print(optimal_params.best_params_)"
   ]
  },
  {
   "cell_type": "code",
   "execution_count": 36,
   "id": "f8bd3492-728a-4012-a624-970909db9c30",
   "metadata": {},
   "outputs": [],
   "source": [
    "XGB_tune1 = optimal_params.best_estimator_"
   ]
  },
  {
   "cell_type": "code",
   "execution_count": 37,
   "id": "545fbb2f-5987-4f76-81b3-531a7e83fe45",
   "metadata": {
    "scrolled": true,
    "tags": []
   },
   "outputs": [
    {
     "name": "stdout",
     "output_type": "stream",
     "text": [
      "[0]\tvalidation_0-aucpr:0.98193\n",
      "[2]\tvalidation_0-aucpr:0.98556\n",
      "[4]\tvalidation_0-aucpr:0.98736\n",
      "[6]\tvalidation_0-aucpr:0.98822\n",
      "[8]\tvalidation_0-aucpr:0.98922\n",
      "[10]\tvalidation_0-aucpr:0.98972\n",
      "[12]\tvalidation_0-aucpr:0.99016\n",
      "[14]\tvalidation_0-aucpr:0.99050\n",
      "[16]\tvalidation_0-aucpr:0.99078\n",
      "[18]\tvalidation_0-aucpr:0.99103\n",
      "[20]\tvalidation_0-aucpr:0.99138\n",
      "[22]\tvalidation_0-aucpr:0.99165\n",
      "[24]\tvalidation_0-aucpr:0.99186\n",
      "[26]\tvalidation_0-aucpr:0.99210\n",
      "[28]\tvalidation_0-aucpr:0.99232\n",
      "[30]\tvalidation_0-aucpr:0.99248\n",
      "[32]\tvalidation_0-aucpr:0.99260\n",
      "[34]\tvalidation_0-aucpr:0.99284\n",
      "[36]\tvalidation_0-aucpr:0.99328\n",
      "[38]\tvalidation_0-aucpr:0.99344\n",
      "[40]\tvalidation_0-aucpr:0.99355\n",
      "[42]\tvalidation_0-aucpr:0.99366\n",
      "[44]\tvalidation_0-aucpr:0.99377\n",
      "[46]\tvalidation_0-aucpr:0.99383\n",
      "[48]\tvalidation_0-aucpr:0.99393\n",
      "[50]\tvalidation_0-aucpr:0.99401\n",
      "[52]\tvalidation_0-aucpr:0.99409\n",
      "[54]\tvalidation_0-aucpr:0.99415\n",
      "[56]\tvalidation_0-aucpr:0.99419\n",
      "[58]\tvalidation_0-aucpr:0.99425\n",
      "[60]\tvalidation_0-aucpr:0.99429\n",
      "[62]\tvalidation_0-aucpr:0.99437\n",
      "[64]\tvalidation_0-aucpr:0.99442\n",
      "[66]\tvalidation_0-aucpr:0.99448\n",
      "[68]\tvalidation_0-aucpr:0.99456\n",
      "[70]\tvalidation_0-aucpr:0.99462\n",
      "[72]\tvalidation_0-aucpr:0.99465\n",
      "[74]\tvalidation_0-aucpr:0.99471\n",
      "[76]\tvalidation_0-aucpr:0.99474\n",
      "[78]\tvalidation_0-aucpr:0.99477\n",
      "[80]\tvalidation_0-aucpr:0.99482\n",
      "[82]\tvalidation_0-aucpr:0.99484\n",
      "[84]\tvalidation_0-aucpr:0.99487\n",
      "[86]\tvalidation_0-aucpr:0.99489\n",
      "[88]\tvalidation_0-aucpr:0.99493\n",
      "[90]\tvalidation_0-aucpr:0.99496\n",
      "[92]\tvalidation_0-aucpr:0.99498\n",
      "[94]\tvalidation_0-aucpr:0.99499\n",
      "[96]\tvalidation_0-aucpr:0.99499\n",
      "[98]\tvalidation_0-aucpr:0.99498\n",
      "[99]\tvalidation_0-aucpr:0.99499\n"
     ]
    },
    {
     "data": {
      "text/html": [
       "<style>#sk-container-id-2 {color: black;background-color: white;}#sk-container-id-2 pre{padding: 0;}#sk-container-id-2 div.sk-toggleable {background-color: white;}#sk-container-id-2 label.sk-toggleable__label {cursor: pointer;display: block;width: 100%;margin-bottom: 0;padding: 0.3em;box-sizing: border-box;text-align: center;}#sk-container-id-2 label.sk-toggleable__label-arrow:before {content: \"▸\";float: left;margin-right: 0.25em;color: #696969;}#sk-container-id-2 label.sk-toggleable__label-arrow:hover:before {color: black;}#sk-container-id-2 div.sk-estimator:hover label.sk-toggleable__label-arrow:before {color: black;}#sk-container-id-2 div.sk-toggleable__content {max-height: 0;max-width: 0;overflow: hidden;text-align: left;background-color: #f0f8ff;}#sk-container-id-2 div.sk-toggleable__content pre {margin: 0.2em;color: black;border-radius: 0.25em;background-color: #f0f8ff;}#sk-container-id-2 input.sk-toggleable__control:checked~div.sk-toggleable__content {max-height: 200px;max-width: 100%;overflow: auto;}#sk-container-id-2 input.sk-toggleable__control:checked~label.sk-toggleable__label-arrow:before {content: \"▾\";}#sk-container-id-2 div.sk-estimator input.sk-toggleable__control:checked~label.sk-toggleable__label {background-color: #d4ebff;}#sk-container-id-2 div.sk-label input.sk-toggleable__control:checked~label.sk-toggleable__label {background-color: #d4ebff;}#sk-container-id-2 input.sk-hidden--visually {border: 0;clip: rect(1px 1px 1px 1px);clip: rect(1px, 1px, 1px, 1px);height: 1px;margin: -1px;overflow: hidden;padding: 0;position: absolute;width: 1px;}#sk-container-id-2 div.sk-estimator {font-family: monospace;background-color: #f0f8ff;border: 1px dotted black;border-radius: 0.25em;box-sizing: border-box;margin-bottom: 0.5em;}#sk-container-id-2 div.sk-estimator:hover {background-color: #d4ebff;}#sk-container-id-2 div.sk-parallel-item::after {content: \"\";width: 100%;border-bottom: 1px solid gray;flex-grow: 1;}#sk-container-id-2 div.sk-label:hover label.sk-toggleable__label {background-color: #d4ebff;}#sk-container-id-2 div.sk-serial::before {content: \"\";position: absolute;border-left: 1px solid gray;box-sizing: border-box;top: 0;bottom: 0;left: 50%;z-index: 0;}#sk-container-id-2 div.sk-serial {display: flex;flex-direction: column;align-items: center;background-color: white;padding-right: 0.2em;padding-left: 0.2em;position: relative;}#sk-container-id-2 div.sk-item {position: relative;z-index: 1;}#sk-container-id-2 div.sk-parallel {display: flex;align-items: stretch;justify-content: center;background-color: white;position: relative;}#sk-container-id-2 div.sk-item::before, #sk-container-id-2 div.sk-parallel-item::before {content: \"\";position: absolute;border-left: 1px solid gray;box-sizing: border-box;top: 0;bottom: 0;left: 50%;z-index: -1;}#sk-container-id-2 div.sk-parallel-item {display: flex;flex-direction: column;z-index: 1;position: relative;background-color: white;}#sk-container-id-2 div.sk-parallel-item:first-child::after {align-self: flex-end;width: 50%;}#sk-container-id-2 div.sk-parallel-item:last-child::after {align-self: flex-start;width: 50%;}#sk-container-id-2 div.sk-parallel-item:only-child::after {width: 0;}#sk-container-id-2 div.sk-dashed-wrapped {border: 1px dashed gray;margin: 0 0.4em 0.5em 0.4em;box-sizing: border-box;padding-bottom: 0.4em;background-color: white;}#sk-container-id-2 div.sk-label label {font-family: monospace;font-weight: bold;display: inline-block;line-height: 1.2em;}#sk-container-id-2 div.sk-label-container {text-align: center;}#sk-container-id-2 div.sk-container {/* jupyter's `normalize.less` sets `[hidden] { display: none; }` but bootstrap.min.css set `[hidden] { display: none !important; }` so we also need the `!important` here to be able to override the default hidden behavior on the sphinx rendered scikit-learn.org. See: https://github.com/scikit-learn/scikit-learn/issues/21755 */display: inline-block !important;position: relative;}#sk-container-id-2 div.sk-text-repr-fallback {display: none;}</style><div id=\"sk-container-id-2\" class=\"sk-top-container\"><div class=\"sk-text-repr-fallback\"><pre>XGBClassifier(base_score=0.5, booster=&#x27;gbtree&#x27;, colsample_bylevel=1,\n",
       "              colsample_bynode=1, colsample_bytree=1, enable_categorical=False,\n",
       "              gamma=1.0, gpu_id=-1, importance_type=None,\n",
       "              interaction_constraints=&#x27;&#x27;, learning_rate=0.1, max_delta_step=0,\n",
       "              max_depth=9, min_child_weight=1, missing=nan,\n",
       "              monotone_constraints=&#x27;()&#x27;, n_estimators=100, n_jobs=12,\n",
       "              num_parallel_tree=1, predictor=&#x27;auto&#x27;, random_state=14,\n",
       "              reg_alpha=0, reg_lambda=0.0, scale_pos_weight=1, seed=14,\n",
       "              subsample=1, tree_method=&#x27;exact&#x27;, validate_parameters=1,\n",
       "              verbosity=None)</pre><b>In a Jupyter environment, please rerun this cell to show the HTML representation or trust the notebook. <br />On GitHub, the HTML representation is unable to render, please try loading this page with nbviewer.org.</b></div><div class=\"sk-container\" hidden><div class=\"sk-item\"><div class=\"sk-estimator sk-toggleable\"><input class=\"sk-toggleable__control sk-hidden--visually\" id=\"sk-estimator-id-2\" type=\"checkbox\" checked><label for=\"sk-estimator-id-2\" class=\"sk-toggleable__label sk-toggleable__label-arrow\">XGBClassifier</label><div class=\"sk-toggleable__content\"><pre>XGBClassifier(base_score=0.5, booster=&#x27;gbtree&#x27;, colsample_bylevel=1,\n",
       "              colsample_bynode=1, colsample_bytree=1, enable_categorical=False,\n",
       "              gamma=1.0, gpu_id=-1, importance_type=None,\n",
       "              interaction_constraints=&#x27;&#x27;, learning_rate=0.1, max_delta_step=0,\n",
       "              max_depth=9, min_child_weight=1, missing=nan,\n",
       "              monotone_constraints=&#x27;()&#x27;, n_estimators=100, n_jobs=12,\n",
       "              num_parallel_tree=1, predictor=&#x27;auto&#x27;, random_state=14,\n",
       "              reg_alpha=0, reg_lambda=0.0, scale_pos_weight=1, seed=14,\n",
       "              subsample=1, tree_method=&#x27;exact&#x27;, validate_parameters=1,\n",
       "              verbosity=None)</pre></div></div></div></div></div>"
      ],
      "text/plain": [
       "XGBClassifier(base_score=0.5, booster='gbtree', colsample_bylevel=1,\n",
       "              colsample_bynode=1, colsample_bytree=1, enable_categorical=False,\n",
       "              gamma=1.0, gpu_id=-1, importance_type=None,\n",
       "              interaction_constraints='', learning_rate=0.1, max_delta_step=0,\n",
       "              max_depth=9, min_child_weight=1, missing=nan,\n",
       "              monotone_constraints='()', n_estimators=100, n_jobs=12,\n",
       "              num_parallel_tree=1, predictor='auto', random_state=14,\n",
       "              reg_alpha=0, reg_lambda=0.0, scale_pos_weight=1, seed=14,\n",
       "              subsample=1, tree_method='exact', validate_parameters=1,\n",
       "              verbosity=None)"
      ]
     },
     "execution_count": 37,
     "metadata": {},
     "output_type": "execute_result"
    }
   ],
   "source": [
    "XGB_tune1.fit(X_train, y_train, verbose = 2,\n",
    "          early_stopping_rounds=10,\n",
    "          eval_metric='aucpr',\n",
    "          eval_set=[(X_test, y_test)],\n",
    "         )"
   ]
  },
  {
   "cell_type": "code",
   "execution_count": 38,
   "id": "005614ae-fca3-4fb0-9459-b01085119fd6",
   "metadata": {},
   "outputs": [
    {
     "data": {
      "text/plain": [
       "Model name                                                XGB_tune1\n",
       "Model arch.       XGBClassifier(base_score=0.5, booster='gbtree'...\n",
       "Train Accuracy                                              0.97568\n",
       "Test_Accuracy                                               0.95809\n",
       "Time                                                           0.06\n",
       "Name: 1, dtype: object"
      ]
     },
     "execution_count": 38,
     "metadata": {},
     "output_type": "execute_result"
    }
   ],
   "source": [
    "model_performance_fat('XGB_tune1', XGB_tune1)"
   ]
  },
  {
   "cell_type": "code",
   "execution_count": 39,
   "id": "8344ad39-fcb2-4585-8bbb-800fcc25de91",
   "metadata": {},
   "outputs": [
    {
     "name": "stdout",
     "output_type": "stream",
     "text": [
      "Exporting  XGB_tune1 ...\n",
      "Finish  submission_model_XGB_tune1_fromfile_5.1.csv\n"
     ]
    }
   ],
   "source": [
    "export_submission('XGB_tune1', XGB_tune1, '5.1')"
   ]
  },
  {
   "cell_type": "markdown",
   "id": "964ad721-ad10-4ff4-91a1-a22a76ba15a4",
   "metadata": {
    "tags": []
   },
   "source": [
    "### XGBoost params tuning 2"
   ]
  },
  {
   "cell_type": "code",
   "execution_count": 59,
   "id": "4a3a0875-ae3a-4622-88c2-aa50211f3783",
   "metadata": {
    "tags": []
   },
   "outputs": [
    {
     "name": "stdout",
     "output_type": "stream",
     "text": [
      "Fitting 5 folds for each of 15 candidates, totalling 75 fits\n",
      "[15:14:53] WARNING: C:\\Windows\\Temp\\abs_557yfx631l\\croots\\recipe\\xgboost-split_1659548953302\\work\\src\\learner.cc:1115: Starting in XGBoost 1.3.0, the default evaluation metric used with the objective 'binary:logistic' was changed from 'error' to 'logloss'. Explicitly set eval_metric if you'd like to restore the old behavior.\n",
      "Completed in: 337.61\n"
     ]
    }
   ],
   "source": [
    "start = time.time()\n",
    "random_grid = {'max_depth': np.arange(5,30,2),\n",
    "               'learning_rate': [0.12,0.11, 0.1,0.09],\n",
    "               'gamma': [0.25, 1.0],\n",
    "               'reg_lambda': [0.0, 1.0],\n",
    "               }\n",
    "estimator = xgb.XGBClassifier(objective='binary:logistic', seed=14)\n",
    "optimal_params = RandomizedSearchCV(estimator = estimator,\n",
    "                                    param_distributions = random_grid,\n",
    "                                    n_iter = 15, \n",
    "                                    cv = 5, \n",
    "                                    verbose=3, \n",
    "                                    random_state=42, \n",
    "                                    n_jobs = 10,\n",
    "                                    scoring = 'roc_auc'\n",
    "                                   )\n",
    "\n",
    "optimal_params.fit(X_train, y_train)\n",
    "print('Completed in:', round(time.time()-start,2))"
   ]
  },
  {
   "cell_type": "code",
   "execution_count": 60,
   "id": "c3f26e04-64d4-4c1d-92a3-fc10b5190ae1",
   "metadata": {},
   "outputs": [
    {
     "name": "stdout",
     "output_type": "stream",
     "text": [
      "{'reg_lambda': 1.0, 'max_depth': 13, 'learning_rate': 0.12, 'gamma': 0.25}\n"
     ]
    }
   ],
   "source": [
    "print(optimal_params.best_params_)"
   ]
  },
  {
   "cell_type": "code",
   "execution_count": 61,
   "id": "4f38b8ba-eea0-4d52-9e5d-d6beae5c57a4",
   "metadata": {},
   "outputs": [],
   "source": [
    "XGB_tune2 = optimal_params.best_estimator_"
   ]
  },
  {
   "cell_type": "code",
   "execution_count": 62,
   "id": "a5fab5e4-6c4e-4b8a-a726-cc9d46d33ccf",
   "metadata": {
    "scrolled": true,
    "tags": []
   },
   "outputs": [
    {
     "name": "stdout",
     "output_type": "stream",
     "text": [
      "[0]\tvalidation_0-aucpr:0.98788\n",
      "[2]\tvalidation_0-aucpr:0.98898\n",
      "[4]\tvalidation_0-aucpr:0.99000\n",
      "[6]\tvalidation_0-aucpr:0.99149\n",
      "[8]\tvalidation_0-aucpr:0.99178\n",
      "[10]\tvalidation_0-aucpr:0.99203\n",
      "[12]\tvalidation_0-aucpr:0.99259\n",
      "[14]\tvalidation_0-aucpr:0.99287\n",
      "[16]\tvalidation_0-aucpr:0.99313\n",
      "[18]\tvalidation_0-aucpr:0.99335\n",
      "[20]\tvalidation_0-aucpr:0.99345\n",
      "[22]\tvalidation_0-aucpr:0.99359\n",
      "[24]\tvalidation_0-aucpr:0.99373\n",
      "[26]\tvalidation_0-aucpr:0.99374\n",
      "[28]\tvalidation_0-aucpr:0.99340\n",
      "[30]\tvalidation_0-aucpr:0.99351\n",
      "[32]\tvalidation_0-aucpr:0.99366\n",
      "[34]\tvalidation_0-aucpr:0.99375\n",
      "[35]\tvalidation_0-aucpr:0.99377\n"
     ]
    },
    {
     "data": {
      "text/html": [
       "<style>#sk-container-id-5 {color: black;background-color: white;}#sk-container-id-5 pre{padding: 0;}#sk-container-id-5 div.sk-toggleable {background-color: white;}#sk-container-id-5 label.sk-toggleable__label {cursor: pointer;display: block;width: 100%;margin-bottom: 0;padding: 0.3em;box-sizing: border-box;text-align: center;}#sk-container-id-5 label.sk-toggleable__label-arrow:before {content: \"▸\";float: left;margin-right: 0.25em;color: #696969;}#sk-container-id-5 label.sk-toggleable__label-arrow:hover:before {color: black;}#sk-container-id-5 div.sk-estimator:hover label.sk-toggleable__label-arrow:before {color: black;}#sk-container-id-5 div.sk-toggleable__content {max-height: 0;max-width: 0;overflow: hidden;text-align: left;background-color: #f0f8ff;}#sk-container-id-5 div.sk-toggleable__content pre {margin: 0.2em;color: black;border-radius: 0.25em;background-color: #f0f8ff;}#sk-container-id-5 input.sk-toggleable__control:checked~div.sk-toggleable__content {max-height: 200px;max-width: 100%;overflow: auto;}#sk-container-id-5 input.sk-toggleable__control:checked~label.sk-toggleable__label-arrow:before {content: \"▾\";}#sk-container-id-5 div.sk-estimator input.sk-toggleable__control:checked~label.sk-toggleable__label {background-color: #d4ebff;}#sk-container-id-5 div.sk-label input.sk-toggleable__control:checked~label.sk-toggleable__label {background-color: #d4ebff;}#sk-container-id-5 input.sk-hidden--visually {border: 0;clip: rect(1px 1px 1px 1px);clip: rect(1px, 1px, 1px, 1px);height: 1px;margin: -1px;overflow: hidden;padding: 0;position: absolute;width: 1px;}#sk-container-id-5 div.sk-estimator {font-family: monospace;background-color: #f0f8ff;border: 1px dotted black;border-radius: 0.25em;box-sizing: border-box;margin-bottom: 0.5em;}#sk-container-id-5 div.sk-estimator:hover {background-color: #d4ebff;}#sk-container-id-5 div.sk-parallel-item::after {content: \"\";width: 100%;border-bottom: 1px solid gray;flex-grow: 1;}#sk-container-id-5 div.sk-label:hover label.sk-toggleable__label {background-color: #d4ebff;}#sk-container-id-5 div.sk-serial::before {content: \"\";position: absolute;border-left: 1px solid gray;box-sizing: border-box;top: 0;bottom: 0;left: 50%;z-index: 0;}#sk-container-id-5 div.sk-serial {display: flex;flex-direction: column;align-items: center;background-color: white;padding-right: 0.2em;padding-left: 0.2em;position: relative;}#sk-container-id-5 div.sk-item {position: relative;z-index: 1;}#sk-container-id-5 div.sk-parallel {display: flex;align-items: stretch;justify-content: center;background-color: white;position: relative;}#sk-container-id-5 div.sk-item::before, #sk-container-id-5 div.sk-parallel-item::before {content: \"\";position: absolute;border-left: 1px solid gray;box-sizing: border-box;top: 0;bottom: 0;left: 50%;z-index: -1;}#sk-container-id-5 div.sk-parallel-item {display: flex;flex-direction: column;z-index: 1;position: relative;background-color: white;}#sk-container-id-5 div.sk-parallel-item:first-child::after {align-self: flex-end;width: 50%;}#sk-container-id-5 div.sk-parallel-item:last-child::after {align-self: flex-start;width: 50%;}#sk-container-id-5 div.sk-parallel-item:only-child::after {width: 0;}#sk-container-id-5 div.sk-dashed-wrapped {border: 1px dashed gray;margin: 0 0.4em 0.5em 0.4em;box-sizing: border-box;padding-bottom: 0.4em;background-color: white;}#sk-container-id-5 div.sk-label label {font-family: monospace;font-weight: bold;display: inline-block;line-height: 1.2em;}#sk-container-id-5 div.sk-label-container {text-align: center;}#sk-container-id-5 div.sk-container {/* jupyter's `normalize.less` sets `[hidden] { display: none; }` but bootstrap.min.css set `[hidden] { display: none !important; }` so we also need the `!important` here to be able to override the default hidden behavior on the sphinx rendered scikit-learn.org. See: https://github.com/scikit-learn/scikit-learn/issues/21755 */display: inline-block !important;position: relative;}#sk-container-id-5 div.sk-text-repr-fallback {display: none;}</style><div id=\"sk-container-id-5\" class=\"sk-top-container\"><div class=\"sk-text-repr-fallback\"><pre>XGBClassifier(base_score=0.5, booster=&#x27;gbtree&#x27;, colsample_bylevel=1,\n",
       "              colsample_bynode=1, colsample_bytree=1, enable_categorical=False,\n",
       "              gamma=0.25, gpu_id=-1, importance_type=None,\n",
       "              interaction_constraints=&#x27;&#x27;, learning_rate=0.12, max_delta_step=0,\n",
       "              max_depth=13, min_child_weight=1, missing=nan,\n",
       "              monotone_constraints=&#x27;()&#x27;, n_estimators=100, n_jobs=12,\n",
       "              num_parallel_tree=1, predictor=&#x27;auto&#x27;, random_state=14,\n",
       "              reg_alpha=0, reg_lambda=1.0, scale_pos_weight=1, seed=14,\n",
       "              subsample=1, tree_method=&#x27;exact&#x27;, validate_parameters=1,\n",
       "              verbosity=None)</pre><b>In a Jupyter environment, please rerun this cell to show the HTML representation or trust the notebook. <br />On GitHub, the HTML representation is unable to render, please try loading this page with nbviewer.org.</b></div><div class=\"sk-container\" hidden><div class=\"sk-item\"><div class=\"sk-estimator sk-toggleable\"><input class=\"sk-toggleable__control sk-hidden--visually\" id=\"sk-estimator-id-5\" type=\"checkbox\" checked><label for=\"sk-estimator-id-5\" class=\"sk-toggleable__label sk-toggleable__label-arrow\">XGBClassifier</label><div class=\"sk-toggleable__content\"><pre>XGBClassifier(base_score=0.5, booster=&#x27;gbtree&#x27;, colsample_bylevel=1,\n",
       "              colsample_bynode=1, colsample_bytree=1, enable_categorical=False,\n",
       "              gamma=0.25, gpu_id=-1, importance_type=None,\n",
       "              interaction_constraints=&#x27;&#x27;, learning_rate=0.12, max_delta_step=0,\n",
       "              max_depth=13, min_child_weight=1, missing=nan,\n",
       "              monotone_constraints=&#x27;()&#x27;, n_estimators=100, n_jobs=12,\n",
       "              num_parallel_tree=1, predictor=&#x27;auto&#x27;, random_state=14,\n",
       "              reg_alpha=0, reg_lambda=1.0, scale_pos_weight=1, seed=14,\n",
       "              subsample=1, tree_method=&#x27;exact&#x27;, validate_parameters=1,\n",
       "              verbosity=None)</pre></div></div></div></div></div>"
      ],
      "text/plain": [
       "XGBClassifier(base_score=0.5, booster='gbtree', colsample_bylevel=1,\n",
       "              colsample_bynode=1, colsample_bytree=1, enable_categorical=False,\n",
       "              gamma=0.25, gpu_id=-1, importance_type=None,\n",
       "              interaction_constraints='', learning_rate=0.12, max_delta_step=0,\n",
       "              max_depth=13, min_child_weight=1, missing=nan,\n",
       "              monotone_constraints='()', n_estimators=100, n_jobs=12,\n",
       "              num_parallel_tree=1, predictor='auto', random_state=14,\n",
       "              reg_alpha=0, reg_lambda=1.0, scale_pos_weight=1, seed=14,\n",
       "              subsample=1, tree_method='exact', validate_parameters=1,\n",
       "              verbosity=None)"
      ]
     },
     "execution_count": 62,
     "metadata": {},
     "output_type": "execute_result"
    }
   ],
   "source": [
    "XGB_tune2.fit(X_train, y_train, verbose = 2,\n",
    "          early_stopping_rounds=10,\n",
    "          eval_metric='aucpr',\n",
    "          eval_set=[(X_test, y_test)],\n",
    "         )"
   ]
  },
  {
   "cell_type": "code",
   "execution_count": 63,
   "id": "fc8db434-acda-4733-8b30-c2839e48d4d6",
   "metadata": {},
   "outputs": [
    {
     "data": {
      "text/plain": [
       "Model name                                                XGB_tune2\n",
       "Model arch.       XGBClassifier(base_score=0.5, booster='gbtree'...\n",
       "Train Accuracy                                              0.97971\n",
       "Test_Accuracy                                               0.95449\n",
       "Time                                                           0.05\n",
       "Name: 5, dtype: object"
      ]
     },
     "execution_count": 63,
     "metadata": {},
     "output_type": "execute_result"
    }
   ],
   "source": [
    "model_performance_fat('XGB_tune2', XGB_tune2)"
   ]
  },
  {
   "cell_type": "markdown",
   "id": "58a5e7a9-9f0c-479c-b390-dad58b762d24",
   "metadata": {},
   "source": [
    "#### Retrain on all dataset"
   ]
  },
  {
   "cell_type": "code",
   "execution_count": 55,
   "id": "08be98d3-464c-44d8-9ae0-2111aad5bbbe",
   "metadata": {},
   "outputs": [],
   "source": [
    "def retrain_X(model):\n",
    "    model.fit(X_all, Y, verbose = 2,\n",
    "              early_stopping_rounds=10,\n",
    "              eval_metric='aucpr',\n",
    "              eval_set=[(X_test, y_test)],\n",
    "             )"
   ]
  },
  {
   "cell_type": "code",
   "execution_count": 64,
   "id": "72793d55-5c52-40ac-850a-a335c7e778ad",
   "metadata": {
    "scrolled": true,
    "tags": []
   },
   "outputs": [
    {
     "name": "stdout",
     "output_type": "stream",
     "text": [
      "[0]\tvalidation_0-aucpr:0.99167\n",
      "[2]\tvalidation_0-aucpr:0.99308\n",
      "[4]\tvalidation_0-aucpr:0.99367\n",
      "[6]\tvalidation_0-aucpr:0.99500\n",
      "[8]\tvalidation_0-aucpr:0.99574\n",
      "[10]\tvalidation_0-aucpr:0.99621\n",
      "[12]\tvalidation_0-aucpr:0.99663\n",
      "[14]\tvalidation_0-aucpr:0.99692\n",
      "[16]\tvalidation_0-aucpr:0.99713\n",
      "[18]\tvalidation_0-aucpr:0.99740\n",
      "[20]\tvalidation_0-aucpr:0.99760\n",
      "[22]\tvalidation_0-aucpr:0.99777\n",
      "[24]\tvalidation_0-aucpr:0.99787\n",
      "[26]\tvalidation_0-aucpr:0.99802\n",
      "[28]\tvalidation_0-aucpr:0.99823\n",
      "[30]\tvalidation_0-aucpr:0.99834\n",
      "[32]\tvalidation_0-aucpr:0.99845\n",
      "[34]\tvalidation_0-aucpr:0.99852\n",
      "[36]\tvalidation_0-aucpr:0.99858\n",
      "[38]\tvalidation_0-aucpr:0.99864\n",
      "[40]\tvalidation_0-aucpr:0.99872\n",
      "[42]\tvalidation_0-aucpr:0.99879\n",
      "[44]\tvalidation_0-aucpr:0.99882\n",
      "[46]\tvalidation_0-aucpr:0.99889\n",
      "[48]\tvalidation_0-aucpr:0.99899\n",
      "[50]\tvalidation_0-aucpr:0.99906\n",
      "[52]\tvalidation_0-aucpr:0.99915\n",
      "[54]\tvalidation_0-aucpr:0.99922\n",
      "[56]\tvalidation_0-aucpr:0.99929\n",
      "[58]\tvalidation_0-aucpr:0.99934\n",
      "[60]\tvalidation_0-aucpr:0.99939\n",
      "[62]\tvalidation_0-aucpr:0.99942\n",
      "[64]\tvalidation_0-aucpr:0.99947\n",
      "[66]\tvalidation_0-aucpr:0.99952\n",
      "[68]\tvalidation_0-aucpr:0.99954\n",
      "[70]\tvalidation_0-aucpr:0.99956\n",
      "[72]\tvalidation_0-aucpr:0.99959\n",
      "[74]\tvalidation_0-aucpr:0.99963\n",
      "[76]\tvalidation_0-aucpr:0.99967\n",
      "[78]\tvalidation_0-aucpr:0.99969\n",
      "[80]\tvalidation_0-aucpr:0.99971\n",
      "[82]\tvalidation_0-aucpr:0.99974\n",
      "[84]\tvalidation_0-aucpr:0.99976\n",
      "[86]\tvalidation_0-aucpr:0.99978\n",
      "[88]\tvalidation_0-aucpr:0.99980\n",
      "[90]\tvalidation_0-aucpr:0.99982\n",
      "[92]\tvalidation_0-aucpr:0.99982\n",
      "[94]\tvalidation_0-aucpr:0.99983\n",
      "[96]\tvalidation_0-aucpr:0.99985\n",
      "[98]\tvalidation_0-aucpr:0.99986\n",
      "[99]\tvalidation_0-aucpr:0.99987\n"
     ]
    }
   ],
   "source": [
    "retrain_X(XGB_tune2)"
   ]
  },
  {
   "cell_type": "code",
   "execution_count": 65,
   "id": "ad8c4c76-bdd9-4ad6-bc6f-8ad2c7582691",
   "metadata": {},
   "outputs": [
    {
     "name": "stdout",
     "output_type": "stream",
     "text": [
      "Exporting  XGB_tune2_retrain ...\n",
      "Finish  submission_model_XGB_tune2_retrain_fromfile_5.1.csv\n"
     ]
    }
   ],
   "source": [
    "export_submission('XGB_tune2_retrain', XGB_tune2, '5.1')"
   ]
  },
  {
   "cell_type": "code",
   "execution_count": null,
   "id": "49d64255-9af0-4fb0-860e-487adecfc0f3",
   "metadata": {},
   "outputs": [],
   "source": []
  },
  {
   "cell_type": "markdown",
   "id": "13a1d6f8-c366-493b-b65b-97b53a1a74cf",
   "metadata": {
    "tags": []
   },
   "source": [
    "### XGBoost params tuning 3"
   ]
  },
  {
   "cell_type": "code",
   "execution_count": 66,
   "id": "6d117a1a-8e3c-469e-9f2f-53bc9bb192c2",
   "metadata": {
    "tags": []
   },
   "outputs": [
    {
     "name": "stdout",
     "output_type": "stream",
     "text": [
      "Fitting 10 folds for each of 10 candidates, totalling 100 fits\n",
      "[15:30:46] WARNING: C:\\Windows\\Temp\\abs_557yfx631l\\croots\\recipe\\xgboost-split_1659548953302\\work\\src\\learner.cc:1115: Starting in XGBoost 1.3.0, the default evaluation metric used with the objective 'binary:logistic' was changed from 'error' to 'logloss'. Explicitly set eval_metric if you'd like to restore the old behavior.\n",
      "Completed in: 515.3\n"
     ]
    }
   ],
   "source": [
    "start = time.time()\n",
    "random_grid = {'max_depth': np.arange(5,30,2),\n",
    "               'learning_rate': [0.12,0.11, 0.1],\n",
    "               'gamma': [0.0, 0.1, 0.25, 1.0],\n",
    "               'reg_lambda': [0.0, 0.1, 1.0],\n",
    "               }\n",
    "estimator = xgb.XGBClassifier(objective='binary:logistic', seed=14)\n",
    "optimal_params = RandomizedSearchCV(estimator = estimator,\n",
    "                                    param_distributions = random_grid,\n",
    "                                    n_iter = 10, \n",
    "                                    cv = 10, \n",
    "                                    verbose=3, \n",
    "                                    random_state=42, \n",
    "                                    n_jobs = 10,\n",
    "                                    scoring = 'roc_auc'\n",
    "                                   )\n",
    "\n",
    "optimal_params.fit(X_train, y_train)\n",
    "print('Completed in:', round(time.time()-start,2))"
   ]
  },
  {
   "cell_type": "code",
   "execution_count": 67,
   "id": "af7d6524-8b6c-4515-9729-744e13aba028",
   "metadata": {},
   "outputs": [
    {
     "name": "stdout",
     "output_type": "stream",
     "text": [
      "{'reg_lambda': 1.0, 'max_depth': 13, 'learning_rate': 0.1, 'gamma': 0.1}\n"
     ]
    }
   ],
   "source": [
    "print(optimal_params.best_params_)"
   ]
  },
  {
   "cell_type": "code",
   "execution_count": 68,
   "id": "f8d8b400-d80b-4cb2-b605-e0228174b790",
   "metadata": {},
   "outputs": [],
   "source": [
    "XGB_tune3 = optimal_params.best_estimator_"
   ]
  },
  {
   "cell_type": "code",
   "execution_count": 69,
   "id": "be1fb116-d691-478b-9dac-4173443b7a98",
   "metadata": {
    "scrolled": true,
    "tags": []
   },
   "outputs": [
    {
     "name": "stdout",
     "output_type": "stream",
     "text": [
      "[0]\tvalidation_0-aucpr:0.98786\n",
      "[2]\tvalidation_0-aucpr:0.98897\n",
      "[4]\tvalidation_0-aucpr:0.98996\n",
      "[6]\tvalidation_0-aucpr:0.99127\n",
      "[8]\tvalidation_0-aucpr:0.99162\n",
      "[10]\tvalidation_0-aucpr:0.99183\n",
      "[12]\tvalidation_0-aucpr:0.99196\n",
      "[14]\tvalidation_0-aucpr:0.99256\n",
      "[16]\tvalidation_0-aucpr:0.99274\n",
      "[18]\tvalidation_0-aucpr:0.99303\n",
      "[20]\tvalidation_0-aucpr:0.99315\n",
      "[22]\tvalidation_0-aucpr:0.99335\n",
      "[24]\tvalidation_0-aucpr:0.99349\n",
      "[26]\tvalidation_0-aucpr:0.99361\n",
      "[28]\tvalidation_0-aucpr:0.99375\n",
      "[30]\tvalidation_0-aucpr:0.99383\n",
      "[32]\tvalidation_0-aucpr:0.99400\n",
      "[34]\tvalidation_0-aucpr:0.99407\n",
      "[36]\tvalidation_0-aucpr:0.99416\n",
      "[38]\tvalidation_0-aucpr:0.99423\n",
      "[40]\tvalidation_0-aucpr:0.99429\n",
      "[42]\tvalidation_0-aucpr:0.99435\n",
      "[44]\tvalidation_0-aucpr:0.99441\n",
      "[46]\tvalidation_0-aucpr:0.99446\n",
      "[48]\tvalidation_0-aucpr:0.99451\n",
      "[50]\tvalidation_0-aucpr:0.99456\n",
      "[52]\tvalidation_0-aucpr:0.99461\n",
      "[54]\tvalidation_0-aucpr:0.99464\n",
      "[56]\tvalidation_0-aucpr:0.99467\n",
      "[58]\tvalidation_0-aucpr:0.99468\n",
      "[60]\tvalidation_0-aucpr:0.99472\n",
      "[62]\tvalidation_0-aucpr:0.99477\n",
      "[64]\tvalidation_0-aucpr:0.99480\n",
      "[66]\tvalidation_0-aucpr:0.99483\n",
      "[68]\tvalidation_0-aucpr:0.99485\n",
      "[70]\tvalidation_0-aucpr:0.99490\n",
      "[72]\tvalidation_0-aucpr:0.99492\n",
      "[74]\tvalidation_0-aucpr:0.99492\n",
      "[76]\tvalidation_0-aucpr:0.99492\n",
      "[78]\tvalidation_0-aucpr:0.99495\n",
      "[80]\tvalidation_0-aucpr:0.99500\n",
      "[82]\tvalidation_0-aucpr:0.99499\n",
      "[84]\tvalidation_0-aucpr:0.99501\n",
      "[86]\tvalidation_0-aucpr:0.99500\n",
      "[88]\tvalidation_0-aucpr:0.99499\n",
      "[90]\tvalidation_0-aucpr:0.99498\n",
      "[92]\tvalidation_0-aucpr:0.99499\n",
      "[94]\tvalidation_0-aucpr:0.99497\n"
     ]
    },
    {
     "data": {
      "text/html": [
       "<style>#sk-container-id-6 {color: black;background-color: white;}#sk-container-id-6 pre{padding: 0;}#sk-container-id-6 div.sk-toggleable {background-color: white;}#sk-container-id-6 label.sk-toggleable__label {cursor: pointer;display: block;width: 100%;margin-bottom: 0;padding: 0.3em;box-sizing: border-box;text-align: center;}#sk-container-id-6 label.sk-toggleable__label-arrow:before {content: \"▸\";float: left;margin-right: 0.25em;color: #696969;}#sk-container-id-6 label.sk-toggleable__label-arrow:hover:before {color: black;}#sk-container-id-6 div.sk-estimator:hover label.sk-toggleable__label-arrow:before {color: black;}#sk-container-id-6 div.sk-toggleable__content {max-height: 0;max-width: 0;overflow: hidden;text-align: left;background-color: #f0f8ff;}#sk-container-id-6 div.sk-toggleable__content pre {margin: 0.2em;color: black;border-radius: 0.25em;background-color: #f0f8ff;}#sk-container-id-6 input.sk-toggleable__control:checked~div.sk-toggleable__content {max-height: 200px;max-width: 100%;overflow: auto;}#sk-container-id-6 input.sk-toggleable__control:checked~label.sk-toggleable__label-arrow:before {content: \"▾\";}#sk-container-id-6 div.sk-estimator input.sk-toggleable__control:checked~label.sk-toggleable__label {background-color: #d4ebff;}#sk-container-id-6 div.sk-label input.sk-toggleable__control:checked~label.sk-toggleable__label {background-color: #d4ebff;}#sk-container-id-6 input.sk-hidden--visually {border: 0;clip: rect(1px 1px 1px 1px);clip: rect(1px, 1px, 1px, 1px);height: 1px;margin: -1px;overflow: hidden;padding: 0;position: absolute;width: 1px;}#sk-container-id-6 div.sk-estimator {font-family: monospace;background-color: #f0f8ff;border: 1px dotted black;border-radius: 0.25em;box-sizing: border-box;margin-bottom: 0.5em;}#sk-container-id-6 div.sk-estimator:hover {background-color: #d4ebff;}#sk-container-id-6 div.sk-parallel-item::after {content: \"\";width: 100%;border-bottom: 1px solid gray;flex-grow: 1;}#sk-container-id-6 div.sk-label:hover label.sk-toggleable__label {background-color: #d4ebff;}#sk-container-id-6 div.sk-serial::before {content: \"\";position: absolute;border-left: 1px solid gray;box-sizing: border-box;top: 0;bottom: 0;left: 50%;z-index: 0;}#sk-container-id-6 div.sk-serial {display: flex;flex-direction: column;align-items: center;background-color: white;padding-right: 0.2em;padding-left: 0.2em;position: relative;}#sk-container-id-6 div.sk-item {position: relative;z-index: 1;}#sk-container-id-6 div.sk-parallel {display: flex;align-items: stretch;justify-content: center;background-color: white;position: relative;}#sk-container-id-6 div.sk-item::before, #sk-container-id-6 div.sk-parallel-item::before {content: \"\";position: absolute;border-left: 1px solid gray;box-sizing: border-box;top: 0;bottom: 0;left: 50%;z-index: -1;}#sk-container-id-6 div.sk-parallel-item {display: flex;flex-direction: column;z-index: 1;position: relative;background-color: white;}#sk-container-id-6 div.sk-parallel-item:first-child::after {align-self: flex-end;width: 50%;}#sk-container-id-6 div.sk-parallel-item:last-child::after {align-self: flex-start;width: 50%;}#sk-container-id-6 div.sk-parallel-item:only-child::after {width: 0;}#sk-container-id-6 div.sk-dashed-wrapped {border: 1px dashed gray;margin: 0 0.4em 0.5em 0.4em;box-sizing: border-box;padding-bottom: 0.4em;background-color: white;}#sk-container-id-6 div.sk-label label {font-family: monospace;font-weight: bold;display: inline-block;line-height: 1.2em;}#sk-container-id-6 div.sk-label-container {text-align: center;}#sk-container-id-6 div.sk-container {/* jupyter's `normalize.less` sets `[hidden] { display: none; }` but bootstrap.min.css set `[hidden] { display: none !important; }` so we also need the `!important` here to be able to override the default hidden behavior on the sphinx rendered scikit-learn.org. See: https://github.com/scikit-learn/scikit-learn/issues/21755 */display: inline-block !important;position: relative;}#sk-container-id-6 div.sk-text-repr-fallback {display: none;}</style><div id=\"sk-container-id-6\" class=\"sk-top-container\"><div class=\"sk-text-repr-fallback\"><pre>XGBClassifier(base_score=0.5, booster=&#x27;gbtree&#x27;, colsample_bylevel=1,\n",
       "              colsample_bynode=1, colsample_bytree=1, enable_categorical=False,\n",
       "              gamma=0.1, gpu_id=-1, importance_type=None,\n",
       "              interaction_constraints=&#x27;&#x27;, learning_rate=0.1, max_delta_step=0,\n",
       "              max_depth=13, min_child_weight=1, missing=nan,\n",
       "              monotone_constraints=&#x27;()&#x27;, n_estimators=100, n_jobs=12,\n",
       "              num_parallel_tree=1, predictor=&#x27;auto&#x27;, random_state=14,\n",
       "              reg_alpha=0, reg_lambda=1.0, scale_pos_weight=1, seed=14,\n",
       "              subsample=1, tree_method=&#x27;exact&#x27;, validate_parameters=1,\n",
       "              verbosity=None)</pre><b>In a Jupyter environment, please rerun this cell to show the HTML representation or trust the notebook. <br />On GitHub, the HTML representation is unable to render, please try loading this page with nbviewer.org.</b></div><div class=\"sk-container\" hidden><div class=\"sk-item\"><div class=\"sk-estimator sk-toggleable\"><input class=\"sk-toggleable__control sk-hidden--visually\" id=\"sk-estimator-id-6\" type=\"checkbox\" checked><label for=\"sk-estimator-id-6\" class=\"sk-toggleable__label sk-toggleable__label-arrow\">XGBClassifier</label><div class=\"sk-toggleable__content\"><pre>XGBClassifier(base_score=0.5, booster=&#x27;gbtree&#x27;, colsample_bylevel=1,\n",
       "              colsample_bynode=1, colsample_bytree=1, enable_categorical=False,\n",
       "              gamma=0.1, gpu_id=-1, importance_type=None,\n",
       "              interaction_constraints=&#x27;&#x27;, learning_rate=0.1, max_delta_step=0,\n",
       "              max_depth=13, min_child_weight=1, missing=nan,\n",
       "              monotone_constraints=&#x27;()&#x27;, n_estimators=100, n_jobs=12,\n",
       "              num_parallel_tree=1, predictor=&#x27;auto&#x27;, random_state=14,\n",
       "              reg_alpha=0, reg_lambda=1.0, scale_pos_weight=1, seed=14,\n",
       "              subsample=1, tree_method=&#x27;exact&#x27;, validate_parameters=1,\n",
       "              verbosity=None)</pre></div></div></div></div></div>"
      ],
      "text/plain": [
       "XGBClassifier(base_score=0.5, booster='gbtree', colsample_bylevel=1,\n",
       "              colsample_bynode=1, colsample_bytree=1, enable_categorical=False,\n",
       "              gamma=0.1, gpu_id=-1, importance_type=None,\n",
       "              interaction_constraints='', learning_rate=0.1, max_delta_step=0,\n",
       "              max_depth=13, min_child_weight=1, missing=nan,\n",
       "              monotone_constraints='()', n_estimators=100, n_jobs=12,\n",
       "              num_parallel_tree=1, predictor='auto', random_state=14,\n",
       "              reg_alpha=0, reg_lambda=1.0, scale_pos_weight=1, seed=14,\n",
       "              subsample=1, tree_method='exact', validate_parameters=1,\n",
       "              verbosity=None)"
      ]
     },
     "execution_count": 69,
     "metadata": {},
     "output_type": "execute_result"
    }
   ],
   "source": [
    "XGB_tune3.fit(X_train, y_train, verbose = 2,\n",
    "          early_stopping_rounds=10,\n",
    "          eval_metric='aucpr',\n",
    "          eval_set=[(X_test, y_test)],\n",
    "         )"
   ]
  },
  {
   "cell_type": "code",
   "execution_count": 70,
   "id": "d558ea6b-1b66-4af0-b5f6-e31c36051e67",
   "metadata": {},
   "outputs": [
    {
     "data": {
      "text/plain": [
       "Model name                                                XGB_tune3\n",
       "Model arch.       XGBClassifier(base_score=0.5, booster='gbtree'...\n",
       "Train Accuracy                                              0.99187\n",
       "Test_Accuracy                                               0.95825\n",
       "Time                                                            0.1\n",
       "Name: 6, dtype: object"
      ]
     },
     "execution_count": 70,
     "metadata": {},
     "output_type": "execute_result"
    }
   ],
   "source": [
    "model_performance_fat('XGB_tune3', XGB_tune3)"
   ]
  },
  {
   "cell_type": "markdown",
   "id": "867705fd-d293-4603-ac78-add5a5fe3ec4",
   "metadata": {},
   "source": [
    "#### Retrain on all dataset"
   ]
  },
  {
   "cell_type": "code",
   "execution_count": 71,
   "id": "49096ae1-b916-4334-8d5f-f3f9f903c682",
   "metadata": {
    "scrolled": true,
    "tags": []
   },
   "outputs": [
    {
     "name": "stdout",
     "output_type": "stream",
     "text": [
      "[0]\tvalidation_0-aucpr:0.99169\n",
      "[2]\tvalidation_0-aucpr:0.99292\n",
      "[4]\tvalidation_0-aucpr:0.99347\n",
      "[6]\tvalidation_0-aucpr:0.99401\n",
      "[8]\tvalidation_0-aucpr:0.99503\n",
      "[10]\tvalidation_0-aucpr:0.99581\n",
      "[12]\tvalidation_0-aucpr:0.99623\n",
      "[14]\tvalidation_0-aucpr:0.99657\n",
      "[16]\tvalidation_0-aucpr:0.99683\n",
      "[18]\tvalidation_0-aucpr:0.99703\n",
      "[20]\tvalidation_0-aucpr:0.99722\n",
      "[22]\tvalidation_0-aucpr:0.99747\n",
      "[24]\tvalidation_0-aucpr:0.99762\n",
      "[26]\tvalidation_0-aucpr:0.99773\n",
      "[28]\tvalidation_0-aucpr:0.99783\n",
      "[30]\tvalidation_0-aucpr:0.99789\n",
      "[32]\tvalidation_0-aucpr:0.99807\n",
      "[34]\tvalidation_0-aucpr:0.99823\n",
      "[36]\tvalidation_0-aucpr:0.99833\n",
      "[38]\tvalidation_0-aucpr:0.99841\n",
      "[40]\tvalidation_0-aucpr:0.99849\n",
      "[42]\tvalidation_0-aucpr:0.99855\n",
      "[44]\tvalidation_0-aucpr:0.99860\n",
      "[46]\tvalidation_0-aucpr:0.99869\n",
      "[48]\tvalidation_0-aucpr:0.99874\n",
      "[50]\tvalidation_0-aucpr:0.99878\n",
      "[52]\tvalidation_0-aucpr:0.99884\n",
      "[54]\tvalidation_0-aucpr:0.99889\n",
      "[56]\tvalidation_0-aucpr:0.99898\n",
      "[58]\tvalidation_0-aucpr:0.99906\n",
      "[60]\tvalidation_0-aucpr:0.99912\n",
      "[62]\tvalidation_0-aucpr:0.99917\n",
      "[64]\tvalidation_0-aucpr:0.99922\n",
      "[66]\tvalidation_0-aucpr:0.99927\n",
      "[68]\tvalidation_0-aucpr:0.99930\n",
      "[70]\tvalidation_0-aucpr:0.99934\n",
      "[72]\tvalidation_0-aucpr:0.99937\n",
      "[74]\tvalidation_0-aucpr:0.99940\n",
      "[76]\tvalidation_0-aucpr:0.99942\n",
      "[78]\tvalidation_0-aucpr:0.99945\n",
      "[80]\tvalidation_0-aucpr:0.99948\n",
      "[82]\tvalidation_0-aucpr:0.99951\n",
      "[84]\tvalidation_0-aucpr:0.99954\n",
      "[86]\tvalidation_0-aucpr:0.99956\n",
      "[88]\tvalidation_0-aucpr:0.99959\n",
      "[90]\tvalidation_0-aucpr:0.99963\n",
      "[92]\tvalidation_0-aucpr:0.99965\n",
      "[94]\tvalidation_0-aucpr:0.99968\n",
      "[96]\tvalidation_0-aucpr:0.99970\n",
      "[98]\tvalidation_0-aucpr:0.99972\n",
      "[99]\tvalidation_0-aucpr:0.99973\n"
     ]
    }
   ],
   "source": [
    "retrain_X(XGB_tune3)"
   ]
  },
  {
   "cell_type": "code",
   "execution_count": 72,
   "id": "a0266e81-b827-4ba2-ae30-62a681a21d80",
   "metadata": {},
   "outputs": [
    {
     "name": "stdout",
     "output_type": "stream",
     "text": [
      "Exporting  XGB_tune3_retrain ...\n",
      "Finish  submission_model_XGB_tune3_retrain_fromfile_5.1.csv\n"
     ]
    }
   ],
   "source": [
    "export_submission('XGB_tune3_retrain', XGB_tune3, '5.1')"
   ]
  },
  {
   "cell_type": "code",
   "execution_count": null,
   "id": "5677148d-62b3-4da3-8c86-7347082aa151",
   "metadata": {},
   "outputs": [],
   "source": []
  }
 ],
 "metadata": {
  "kernelspec": {
   "display_name": "Python 3 (ipykernel)",
   "language": "python",
   "name": "python3"
  },
  "language_info": {
   "codemirror_mode": {
    "name": "ipython",
    "version": 3
   },
   "file_extension": ".py",
   "mimetype": "text/x-python",
   "name": "python",
   "nbconvert_exporter": "python",
   "pygments_lexer": "ipython3",
   "version": "3.9.13"
  }
 },
 "nbformat": 4,
 "nbformat_minor": 5
}
